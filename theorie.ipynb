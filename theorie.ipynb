{
 "cells": [
  {
   "cell_type": "markdown",
   "metadata": {},
   "source": [
    "# Monge, Bregman and Occam: Interpretable Optimal Transport in High-Dimensions with Feature-Sparse Maps "
   ]
  },
  {
   "cell_type": "markdown",
   "metadata": {},
   "source": [
    "## Abstract"
   ]
  },
  {
   "cell_type": "markdown",
   "metadata": {},
   "source": [
    "In this tutorial, we cover how to solve high dimensional optimal transport problems with feature-sparse maps based on the paper [Monge, Bregman and Occam: Interpretable Optimal Transport in High-Dimensions with Feature-Sparse Maps](https://proceedings.mlr.press/v202/cuturi23a.html).\n",
    "\n",
    "We propose a new model using translation-invariant costs and a regularizer. By choosing a sparsity-inducing norm for the regularizer, it produces sparse displacement vectors, simplifying the transport process. This method effectively estimates meaningful OT maps for high-dimensional data without dimensionality reduction."
   ]
  },
  {
   "cell_type": "markdown",
   "metadata": {},
   "source": [
    "## Introduction"
   ]
  },
  {
   "cell_type": "markdown",
   "metadata": {},
   "source": [
    "#### Optimal Transport in Machine Learning:\n",
    "In the realm of machine learning, OT serves as a fundamental tool for transferring observations from a source to a target probability measure, finding applications in domain adaptation, generative model training, and dataset realignment across various disciplines. The practical efficacy and guiding theoretical principles of OT computational approaches are underscored."
   ]
  },
  {
   "cell_type": "markdown",
   "metadata": {},
   "source": [
    "#### Challenges and Solutions in High-Dimensional Transport:\n",
    " However, challenges arise when dealing with high-dimensional spaces, where the conventional choice of cost function, often based on the Euclidean distance, loses significance due to the curse of dimensionality. While dimensionality reduction techniques like PCA or VAE are commonly employed, they may yield transport maps that are difficult to interpret in the original space. To address this, the paper introduces an innovative approach utilizing the sparsity toolbox to construct OT maps that are both simpler and adaptive to input. This method involves leveraging generalized entropic maps and elastic-type regularizers to produce sparse displacements, allowing for effective interpretation and application in extremely high-dimensional datasets, as exemplified in the analysis of single-cell transcription data."
   ]
  },
  {
   "cell_type": "markdown",
   "metadata": {},
   "source": [
    "#### Application and Interpretation:\n",
    "It's noteworthy that the discussed sparsity concept differs from the conventional sparsity encountered in computational OT literature, focusing instead on feature-wise sparse OT maps rather than optimal coupling matrices. Additionally, the passage briefly touches upon the theoretical underpinnings of OT with degenerate costs, highlighting the influence of flat norms like ℓ1 and guiding the exploration towards elastictype norms for controlling sparsity through regularization strength."
   ]
  },
  {
   "cell_type": "markdown",
   "metadata": {},
   "source": [
    "## Mathematical framework"
   ]
  }
 ],
 "metadata": {
  "language_info": {
   "name": "python"
  },
  "orig_nbformat": 4
 },
 "nbformat": 4,
 "nbformat_minor": 2
}
