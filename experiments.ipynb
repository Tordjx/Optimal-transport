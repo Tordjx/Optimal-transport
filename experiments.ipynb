{
  "cells": [
    {
      "cell_type": "code",
      "execution_count": 1,
      "metadata": {
        "id": "mND960P66-1u"
      },
      "outputs": [
        {
          "name": "stderr",
          "output_type": "stream",
          "text": [
            "/home/tordjx/miniconda3/envs/rapidsjpp/lib/python3.10/site-packages/tqdm/auto.py:21: TqdmWarning: IProgress not found. Please update jupyter and ipywidgets. See https://ipywidgets.readthedocs.io/en/stable/user_install.html\n",
            "  from .autonotebook import tqdm as notebook_tqdm\n"
          ]
        }
      ],
      "source": [
        "import torchvision.datasets as datasets\n",
        "import numpy as np\n",
        "import os\n",
        "from functools import partial\n",
        "from jax import jit\n",
        "import jax\n",
        "import jax.numpy as jnp\n",
        "import torchvision\n",
        "import jax.random as random\n",
        "import matplotlib.pyplot as plt\n",
        "import ott"
      ]
    },
    {
      "cell_type": "code",
      "execution_count": 2,
      "metadata": {
        "id": "zGz720sv6-1v"
      },
      "outputs": [],
      "source": [
        "from typing import Any\n",
        "from jax.numpy import ndarray\n",
        "from ott.geometry.costs import TICost\n",
        "\n",
        "def sigma(z) :\n",
        "    return jnp.arcsinh(z)\n",
        "\n",
        "\n",
        "#maybe regti should herit from ticost\n",
        "\n",
        "@jax.tree_util.register_pytree_node_class\n",
        "class RegTICost(TICost) :\n",
        "    def __init__(self, cost = lambda x : 0.5*jnp.sum(x**2),reg_name =\"l1\",gamma=0.1 ) :\n",
        "        super().__init__()\n",
        "        self.reg_name = reg_name\n",
        "        self.cost = cost\n",
        "        if self.reg_name not in [None,'l1','stvs' ]:\n",
        "            raise Exception(\"Norm name must be one of l1, stvs, None\")\n",
        "        self.gamma = gamma\n",
        "    def reg(self,z) :\n",
        "        if self.reg_name == \"l1\" :\n",
        "            return self.gamma * jnp.sum(abs(z))\n",
        "        elif self.reg_name == \"stvs\" :\n",
        "            return self.gamma**2 * jnp.sum((sigma(z) + 0.5 -0.5 *jnp.exp(-2*sigma(z))))\n",
        "        else :\n",
        "            return 0 #prox of 0 function is identity\n",
        "    def h(self, z) :\n",
        "        return self.cost(z) + self.reg(z)\n",
        "\n",
        "    def prox_reg(self,z) :\n",
        "        if self.reg_name == \"l1\" :\n",
        "            return jnp.where((1-self.gamma/abs(z))>0,(1-self.gamma/abs(z)),0) * z\n",
        "        elif self.reg_name == \"stvs\" :\n",
        "            return jnp.where((1-self.gamma**2/(abs(z)**2))>0,(1-self.gamma**2/(abs(z)**2)),0) * z\n",
        "        else :\n",
        "            return z\n",
        "    def h_legendre(self, z: jnp.ndarray) -> float:\n",
        "        q = self.prox_reg(jax.lax.stop_gradient(z))\n",
        "        return jnp.sum(q * z) - self.h(q) #JUSTIFIER !!!!!!\n",
        "\n"
      ]
    },
    {
      "cell_type": "markdown",
      "metadata": {
        "id": "PfUo8QXD6-1w"
      },
      "source": [
        "##Experiments on synthetic data : analysis of the feature sparsity"
      ]
    },
    {
      "cell_type": "code",
      "execution_count": 3,
      "metadata": {
        "colab": {
          "base_uri": "https://localhost:8080/"
        },
        "id": "T3MNo3vY6-1x",
        "outputId": "3a391d8b-a698-4872-942f-8142a7a59252"
      },
      "outputs": [
        {
          "name": "stderr",
          "output_type": "stream",
          "text": [
            "2024-04-24 15:02:50.627614: W external/xla/xla/service/gpu/nvptx_compiler.cc:718] The NVIDIA driver's CUDA version is 12.0 which is older than the ptxas CUDA version (12.4.99). Because the driver is older than the ptxas version, XLA is disabling parallel compilation, which may slow down compilation. You should update your NVIDIA driver or use the NVIDIA-provided CUDA forward compatibility packages.\n",
            "100%|██████████| 10/10 [00:43<00:00,  4.37s/it]\n"
          ]
        }
      ],
      "source": [
        "n=  1000\n",
        "s= 5\n",
        "def sample_mu(n ,d, key) :\n",
        "    return jnp.asarray(jax.random.uniform(key, (n,d))) #returns the whole sampled data\n",
        "def compute_transport(x,s) : #takes a matrix as input\n",
        "    return jnp.concatenate(( jnp.exp(x[:,:s]), x[:,s:]),-1)\n",
        "\n",
        "def sample_data(d):\n",
        "    #Sample xi :\n",
        "    rng = jax.random.PRNGKey(0)\n",
        "    rng1, rng2 = jax.random.split(rng)\n",
        "    x = sample_mu(n,d ,rng1)\n",
        "    #Sample yi\n",
        "    x_tilde = sample_mu(n,d ,rng2)\n",
        "    y = compute_transport(x_tilde,s)\n",
        "    return x ,y\n",
        "#Define normalized MSE and support error\n",
        "def normalized_mse(y, y_pred) :\n",
        "    return (1/ jnp.prod(np.array(y.shape))) * jnp.sum((y-y_pred)**2)\n",
        "def support_error(y, y_pred,x) :\n",
        "    delta = y_pred -x\n",
        "    return jnp.sum(delta[:,s:]**2)/ (jnp.sum(delta**2) * y.shape[0]) #à vérifier !!!!\n",
        "\n",
        "result ={}\n",
        "from tqdm import tqdm\n",
        "for gamma in  tqdm(jnp.linspace(1e-2,1e1, 10)) : #peut etre trop de points\n",
        "    for d in [8,20,100]:\n",
        "        for reg_name in [None,'l1', \"stvs\"]:\n",
        "            x ,y = sample_data(d)\n",
        "            cost = RegTICost(reg_name=reg_name, gamma=gamma)\n",
        "            epsilon=0.1\n",
        "            geom = ott.geometry.pointcloud.PointCloud(x, y, cost_fn=cost,scale_cost = \"mean\")\n",
        "            problem = ott.problems.linear.linear_problem.LinearProblem(geom)\n",
        "            solver = ott.solvers.linear.sinkhorn.Sinkhorn(threshold=epsilon)\n",
        "            out = solver(problem)\n",
        "            y_pred = out.to_dual_potentials().transport(x)\n",
        "            nmse = normalized_mse(y , y_pred)\n",
        "            s_error = support_error(y, y_pred, x)\n",
        "            if reg_name is None :\n",
        "              reg_name = \"none\"\n",
        "            result[str(gamma)+\"|\"+str(d)+\"|\"+reg_name] = (nmse, s_error)\n",
        "gammas = []\n",
        "ds = []\n",
        "reg_names = []\n",
        "nmses = []\n",
        "s_errors = []\n",
        "\n",
        "# Parse result dictionary\n",
        "for k, v in result.items():\n",
        "    gamma, d, reg_name = k.split('|')\n",
        "    nmse, s_error = v\n",
        "    gammas.append(float(gamma))\n",
        "    ds.append(int(d))\n",
        "    reg_names.append(reg_name)\n",
        "    nmses.append(nmse)\n",
        "    s_errors.append(s_error)\n",
        "import pandas as pd\n",
        "# Create DataFrame\n",
        "df = pd.DataFrame({\n",
        "    'Gamma': gammas,\n",
        "    'D': ds,\n",
        "    'Reg_Name': reg_names,\n",
        "    'NMSE': nmses,\n",
        "    'S_Error': s_errors\n",
        "})\n",
        "df.to_csv(\"df1.csv\")"
      ]
    },
    {
      "cell_type": "markdown",
      "metadata": {
        "id": "8Mk1mCZT6-1x"
      },
      "source": [
        "#x dependent sparsity patterns"
      ]
    },
    {
      "cell_type": "code",
      "execution_count": 4,
      "metadata": {
        "colab": {
          "base_uri": "https://localhost:8080/",
          "height": 478
        },
        "id": "PPjtbegY6-1x",
        "outputId": "e713c1ea-23d2-40d6-8a3f-aa25eb826cdd"
      },
      "outputs": [
        {
          "name": "stderr",
          "output_type": "stream",
          "text": [
            "100%|██████████| 10/10 [02:00<00:00, 12.08s/it]\n"
          ]
        }
      ],
      "source": [
        "n = 100\n",
        "s= 2\n",
        "def F(x,s) :\n",
        "    n1 = jnp.sum(x[:s]**2)\n",
        "    n2 = jnp.sum(x[s:2*s]**2)\n",
        "    if n1> n2 :\n",
        "        return jnp.concatenate(( jnp.exp(x[:,:s]), x[:,s:]),-1)\n",
        "\n",
        "    else :\n",
        "        return  jnp.concatenate(( x[:,:s], jnp.exp(x[:,s:2*s]), x[:,2*s:]),-1)\n",
        "def sample_data(d):\n",
        "    #Sample xi :\n",
        "    rng = jax.random.PRNGKey(0)\n",
        "    rng1, rng2 = jax.random.split(rng)\n",
        "    x = sample_mu(n,d ,rng1)\n",
        "    #Sample yi\n",
        "    x_tilde = sample_mu(n,d ,rng2)\n",
        "    y = F(x_tilde,s)\n",
        "    return x ,y\n",
        "result = {}\n",
        "for d in tqdm(jnp.linspace(1e1, 1e3, 10)):\n",
        "    d = int(d)\n",
        "    for reg_name in ['l1', \"stvs\", None]:\n",
        "        for gamma in  jnp.linspace(1e-2,1e1, 10) : #We'll keep the value of lowest NMSE\n",
        "            x ,y = sample_data(d)\n",
        "            cost = RegTICost(reg_name=reg_name, gamma=gamma)\n",
        "            epsilon=0.1\n",
        "            geom = ott.geometry.pointcloud.PointCloud(x, y, cost_fn=cost,scale_cost = \"mean\")\n",
        "            problem = ott.problems.linear.linear_problem.LinearProblem(geom)\n",
        "            solver = ott.solvers.linear.sinkhorn.Sinkhorn(threshold=epsilon)\n",
        "            out = solver(problem)\n",
        "            y_pred = out.to_dual_potentials().transport(x)\n",
        "            nmse = normalized_mse(y , y_pred)\n",
        "            if reg_name is None :\n",
        "              reg_name = \"none\"\n",
        "            if str(d)+\"|\"+reg_name not in result.keys() or result[str(d)+\"|\"+reg_name]>nmse:\n",
        "                result[str(d)+\"|\"+reg_name] = nmse\n",
        "            if reg_name == \"none\" :\n",
        "              reg_name = None\n",
        "#process the data and plot\n",
        "ds = []\n",
        "reg_names = []\n",
        "nmses = []\n",
        "\n",
        "# Parse result dictionary\n",
        "for k, v in result.items():\n",
        "    d, reg_name = k.split('|')\n",
        "    nmse = v\n",
        "    ds.append(int(d))\n",
        "    reg_names.append(reg_name)\n",
        "    nmses.append(nmse)\n",
        "import pandas as pd\n",
        "# Create DataFrame\n",
        "df = pd.DataFrame({\n",
        "    'D': ds,\n",
        "    'Reg_Name': reg_names,\n",
        "    'NMSE': nmses,\n",
        "})\n",
        "df.to_csv(\"df2.csv\")"
      ]
    },
    {
      "cell_type": "markdown",
      "metadata": {
        "id": "fa6RSeqQ6-1y"
      },
      "source": [
        "##Aplication to single cell genomics"
      ]
    },
    {
      "cell_type": "markdown",
      "metadata": {
        "id": "MLFvX4etJHQe"
      },
      "source": [
        "the data can be downloaded here : https://cellxgene.cziscience.com/datasets"
      ]
    },
    {
      "cell_type": "code",
      "execution_count": 5,
      "metadata": {
        "id": "5KotWXcl6-1y"
      },
      "outputs": [
        {
          "name": "stderr",
          "output_type": "stream",
          "text": [
            "/home/tordjx/miniconda3/envs/rapidsjpp/lib/python3.10/site-packages/scanpy/preprocessing/_normalization.py:206: UserWarning: Received a view of an AnnData. Making a copy.\n",
            "  view_to_actual(adata)\n"
          ]
        }
      ],
      "source": [
        "import scanpy\n",
        "path_file = \"Massively multiplex chemical transcriptomics at single-cell resolution - K562.h5ad\"\n",
        "data= scanpy.read_h5ad(path_file)\n",
        "#Remove cells with less than 200 expressed genes\n",
        "df = data.obs[data.obs['num_genes_expressed']>200]\n",
        "#Remove genes expressed in less than 20 cells\n",
        "import numpy as np\n",
        "ann_data = data[data.obs.index.isin(df.index)]\n",
        "column_sums = ann_data.X.sum(axis=0)\n",
        "column_sums_dense = np.asarray(column_sums).flatten()\n",
        "mask = column_sums_dense > 20\n",
        "filtered_ann_data = ann_data[:, mask]\n",
        "#Select the 5 drugs Belinostat, Dacinostat, Givinostat, Hesperadin, and Quisinostat, and the control\n",
        "medocs = [\"Belinostat (PXD101)\",\n",
        "\"Hesperadin\",\n",
        "\"Givinostat (ITF2357)\",\n",
        "\"Dacinostat (LAQ824)\",\n",
        "\"Quisinostat (JNJ-26481585) 2HCl\", \"Vehicle\"]\n",
        "scanpy.pp.normalize_total(filtered_ann_data)\n",
        "scanpy.pp.log1p(filtered_ann_data)\n",
        "scanpy.pp.highly_variable_genes(filtered_ann_data, n_top_genes=5000)\n",
        "#scanpy.tl.rank_genes_groups(filtered_ann_data, groupby='product_name', method='t-test')#\n",
        "#perturbation_marker_names = { k : filtered_ann_data.uns['rank_genes_groups']['names'][k][:50] for k in medocs}\n",
        "#Whole set\n",
        "cell_names = {k : filtered_ann_data.obs[k == df[\"product_name\"]].index for k in medocs}\n",
        "cell_data_full = { k : filtered_ann_data[filtered_ann_data.obs.index.isin(cell_names[k])] for k in medocs}\n",
        "#cell_marker_index = {k : [list(cell_data_full[k].to_df().columns).index(item) for item in perturbation_marker_names[k]] for k in medocs}\n",
        "cell_data_full = { k : np.asarray(cell_data_full[k].X.todense()) for k in medocs}\n",
        "#cell_data_marker = {k : cell_data_full[k][:, cell_marker_index[k]] for k in medocs}\n",
        "#Top 5k\n",
        "top5k_filtered_ann_data = filtered_ann_data[:, filtered_ann_data.var['highly_variable']]\n",
        "cell_names = {k : top5k_filtered_ann_data.obs[k == df[\"product_name\"]].index for k in medocs}\n",
        "cell_data_5k = { k : top5k_filtered_ann_data[top5k_filtered_ann_data.obs.index.isin(cell_names[k])] for k in medocs}\n",
        "cell_data_5k = { k : np.asarray(cell_data_5k[k].X.todense()) for k in medocs}"
      ]
    },
    {
      "cell_type": "code",
      "execution_count": 6,
      "metadata": {
        "id": "MhbocJZ36-1y"
      },
      "outputs": [],
      "source": [
        "from sklearn.model_selection import KFold\n",
        "from sklearn.decomposition import PCA\n",
        "from ott.tools.sinkhorn_divergence import sinkhorn_divergence\n",
        "\n",
        "def experiment(medoc, cell_data,reg_name, pca_bool, gamma):\n",
        "    X = cell_data['Vehicle']\n",
        "    y = cell_data[medoc]\n",
        "    Xfolds = KFold(n_splits=10, shuffle=True, random_state=42).split(X)\n",
        "    yfolds=  KFold(n_splits=10, shuffle=True, random_state=42).split(y)\n",
        "    result = []\n",
        "    cost = RegTICost(reg_name=reg_name,gamma = gamma)\n",
        "    for fold, ((train_index_X, test_index_X), (train_index_y, test_index_y)) in enumerate(zip(Xfolds, yfolds)):\n",
        "        X_train, X_test = X[train_index_X], X[test_index_X]\n",
        "        y_train, y_test = y[train_index_y], y[test_index_y]\n",
        "        if pca_bool :\n",
        "            pca = PCA(n_components=50).fit(X_train)\n",
        "            X_train,y_train = pca.transform(X_train), pca.transform(y_train)\n",
        "            X_test,y_test = pca.transform(X_test), pca.transform(y_test)\n",
        "        epsilon=0.1\n",
        "        geom = ott.geometry.pointcloud.PointCloud(X_train, y_train, cost_fn=cost,scale_cost = \"mean\")\n",
        "        problem = ott.problems.linear.linear_problem.LinearProblem(geom)\n",
        "        solver = ott.solvers.linear.sinkhorn.Sinkhorn(threshold=epsilon)\n",
        "        out = solver(problem)\n",
        "        y_test_pred = out.to_dual_potentials().transport(X_test)\n",
        "        ##Metrics\n",
        "        #Sinkhorn divergence\n",
        "        result.append(sinkhorn_divergence(ott.geometry.pointcloud.PointCloud, y_test_pred, y_test).divergence)\n",
        "        #Dans l'article ils parlent de deux autres metriques, le R2 et le ranked biased overlap, le probleme est qu'ils le font entre des \"marqueurs de perturbation\" et ce qu'on prédit, et je ne comprends pas ce qui est attendu. Surtout que il se trouve que les marqueurs de perturbations n'appartiennent pas au sous ensemble des 5k genes, donc ça voudrait dire qu'on ne peut pas le calculer pour un des sous ensemble : j'y comprends que dalle\n",
        "    return result"
      ]
    },
    {
      "cell_type": "code",
      "execution_count": 7,
      "metadata": {
        "id": "5N8fmSvH6-1y"
      },
      "outputs": [
        {
          "name": "stderr",
          "output_type": "stream",
          "text": [
            "  0%|          | 0/6 [00:00<?, ?it/s]2024-04-24 15:07:05.113537: W external/xla/xla/service/hlo_rematerialization.cc:2946] Can't reduce memory use below -23.25GiB (-24960156968 bytes) by rematerialization; only reduced to 33.32GiB (35781620000 bytes), down from 33.32GiB (35781620000 bytes) originally\n",
            "2024-04-24 15:07:15.137051: W external/tsl/tsl/framework/bfc_allocator.cc:482] Allocator (GPU_0_bfc) ran out of memory trying to allocate 33.32GiB (rounded to 35781620224)requested by op \n",
            "2024-04-24 15:07:15.137156: W external/tsl/tsl/framework/bfc_allocator.cc:494] *___________________________________________________________________________________________________\n",
            "E0424 15:07:15.137189   30588 pjrt_stream_executor_client.cc:2809] Execution of replica 0 failed: RESOURCE_EXHAUSTED: Out of memory while trying to allocate 35781620000 bytes.\n",
            "BufferAssignment OOM Debugging.\n",
            "BufferAssignment stats:\n",
            "             parameter allocation:   68.85MiB\n",
            "              constant allocation:         0B\n",
            "        maybe_live_out allocation:   33.32GiB\n",
            "     preallocated temp allocation:         0B\n",
            "                 total allocation:   33.39GiB\n",
            "              total fragmentation:         0B (0.00%)\n",
            "Peak buffers:\n",
            "\tBuffer 1:\n",
            "\t\tSize: 33.32GiB\n",
            "\t\tOperator: op_name=\"jit(<lambda>)/jit(main)/sub\" source_file=\"/tmp/ipykernel_30588/2357495081.py\" source_line=23\n",
            "\t\tXLA Label: fusion\n",
            "\t\tShape: f32[3017,593,5000]\n",
            "\t\t==========================\n",
            "\n",
            "\tBuffer 2:\n",
            "\t\tSize: 57.54MiB\n",
            "\t\tEntry Parameter Subshape: f32[3017,5000]\n",
            "\t\t==========================\n",
            "\n",
            "\tBuffer 3:\n",
            "\t\tSize: 11.31MiB\n",
            "\t\tEntry Parameter Subshape: f32[593,5000]\n",
            "\t\t==========================\n",
            "\n",
            "\n",
            "  0%|          | 0/6 [01:28<?, ?it/s]\n"
          ]
        },
        {
          "ename": "XlaRuntimeError",
          "evalue": "RESOURCE_EXHAUSTED: Out of memory while trying to allocate 35781620000 bytes.\nBufferAssignment OOM Debugging.\nBufferAssignment stats:\n             parameter allocation:   68.85MiB\n              constant allocation:         0B\n        maybe_live_out allocation:   33.32GiB\n     preallocated temp allocation:         0B\n                 total allocation:   33.39GiB\n              total fragmentation:         0B (0.00%)\nPeak buffers:\n\tBuffer 1:\n\t\tSize: 33.32GiB\n\t\tOperator: op_name=\"jit(<lambda>)/jit(main)/sub\" source_file=\"/tmp/ipykernel_30588/2357495081.py\" source_line=23\n\t\tXLA Label: fusion\n\t\tShape: f32[3017,593,5000]\n\t\t==========================\n\n\tBuffer 2:\n\t\tSize: 57.54MiB\n\t\tEntry Parameter Subshape: f32[3017,5000]\n\t\t==========================\n\n\tBuffer 3:\n\t\tSize: 11.31MiB\n\t\tEntry Parameter Subshape: f32[593,5000]\n\t\t==========================\n\n",
          "output_type": "error",
          "traceback": [
            "\u001b[0;31m---------------------------------------------------------------------------\u001b[0m",
            "\u001b[0;31mXlaRuntimeError\u001b[0m                           Traceback (most recent call last)",
            "Cell \u001b[0;32mIn[7], line 17\u001b[0m\n\u001b[1;32m     15\u001b[0m                     \u001b[38;5;28;01melse\u001b[39;00m :\n\u001b[1;32m     16\u001b[0m                         data \u001b[38;5;241m=\u001b[39m cell_data_full\n\u001b[0;32m---> 17\u001b[0m                     result[medoc\u001b[38;5;241m+\u001b[39m\u001b[38;5;124m\"\u001b[39m\u001b[38;5;124m|\u001b[39m\u001b[38;5;124m\"\u001b[39m\u001b[38;5;241m+\u001b[39mreg_name\u001b[38;5;241m+\u001b[39m\u001b[38;5;124m\"\u001b[39m\u001b[38;5;124m|\u001b[39m\u001b[38;5;124m\"\u001b[39m\u001b[38;5;241m+\u001b[39mdata_name\u001b[38;5;241m+\u001b[39m\u001b[38;5;124m\"\u001b[39m\u001b[38;5;124m|\u001b[39m\u001b[38;5;124m\"\u001b[39m\u001b[38;5;241m+\u001b[39m \u001b[38;5;28mstr\u001b[39m(pca_bool)\u001b[38;5;241m+\u001b[39m\u001b[38;5;124m\"\u001b[39m\u001b[38;5;124m|\u001b[39m\u001b[38;5;124m\"\u001b[39m\u001b[38;5;241m+\u001b[39m\u001b[38;5;28mstr\u001b[39m(gamma)] \u001b[38;5;241m=\u001b[39m \u001b[43mexperiment\u001b[49m\u001b[43m(\u001b[49m\u001b[43mmedoc\u001b[49m\u001b[43m,\u001b[49m\u001b[43m \u001b[49m\u001b[43mcell_data_5k\u001b[49m\u001b[43m,\u001b[49m\u001b[43m \u001b[49m\u001b[43mreg_name\u001b[49m\u001b[43m,\u001b[49m\u001b[43m \u001b[49m\u001b[43mpca_bool\u001b[49m\u001b[38;5;241;43m=\u001b[39;49m\u001b[43mpca_bool\u001b[49m\u001b[43m,\u001b[49m\u001b[43m \u001b[49m\u001b[43mgamma\u001b[49m\u001b[38;5;241;43m=\u001b[39;49m\u001b[43mgamma\u001b[49m\u001b[43m)\u001b[49m\n\u001b[1;32m     19\u001b[0m \u001b[38;5;66;03m#process data, make the plots(mega chiant)\u001b[39;00m\n",
            "Cell \u001b[0;32mIn[6], line 23\u001b[0m, in \u001b[0;36mexperiment\u001b[0;34m(medoc, cell_data, reg_name, pca_bool, gamma)\u001b[0m\n\u001b[1;32m     21\u001b[0m problem \u001b[38;5;241m=\u001b[39m ott\u001b[38;5;241m.\u001b[39mproblems\u001b[38;5;241m.\u001b[39mlinear\u001b[38;5;241m.\u001b[39mlinear_problem\u001b[38;5;241m.\u001b[39mLinearProblem(geom)\n\u001b[1;32m     22\u001b[0m solver \u001b[38;5;241m=\u001b[39m ott\u001b[38;5;241m.\u001b[39msolvers\u001b[38;5;241m.\u001b[39mlinear\u001b[38;5;241m.\u001b[39msinkhorn\u001b[38;5;241m.\u001b[39mSinkhorn(threshold\u001b[38;5;241m=\u001b[39mepsilon)\n\u001b[0;32m---> 23\u001b[0m out \u001b[38;5;241m=\u001b[39m \u001b[43msolver\u001b[49m\u001b[43m(\u001b[49m\u001b[43mproblem\u001b[49m\u001b[43m)\u001b[49m\n\u001b[1;32m     24\u001b[0m y_test_pred \u001b[38;5;241m=\u001b[39m out\u001b[38;5;241m.\u001b[39mto_dual_potentials()\u001b[38;5;241m.\u001b[39mtransport(X_test)\n\u001b[1;32m     25\u001b[0m \u001b[38;5;66;03m##Metrics\u001b[39;00m\n\u001b[1;32m     26\u001b[0m \u001b[38;5;66;03m#Sinkhorn divergence\u001b[39;00m\n",
            "File \u001b[0;32m~/miniconda3/envs/rapidsjpp/lib/python3.10/site-packages/ott/solvers/linear/sinkhorn.py:864\u001b[0m, in \u001b[0;36mSinkhorn.__call__\u001b[0;34m(self, ot_prob, init, rng)\u001b[0m\n\u001b[1;32m    860\u001b[0m initializer \u001b[38;5;241m=\u001b[39m \u001b[38;5;28mself\u001b[39m\u001b[38;5;241m.\u001b[39mcreate_initializer()\n\u001b[1;32m    861\u001b[0m init_dual_a, init_dual_b \u001b[38;5;241m=\u001b[39m initializer(\n\u001b[1;32m    862\u001b[0m     ot_prob, \u001b[38;5;241m*\u001b[39minit, lse_mode\u001b[38;5;241m=\u001b[39m\u001b[38;5;28mself\u001b[39m\u001b[38;5;241m.\u001b[39mlse_mode, rng\u001b[38;5;241m=\u001b[39mrng\n\u001b[1;32m    863\u001b[0m )\n\u001b[0;32m--> 864\u001b[0m \u001b[38;5;28;01mreturn\u001b[39;00m \u001b[43mrun\u001b[49m\u001b[43m(\u001b[49m\u001b[43mot_prob\u001b[49m\u001b[43m,\u001b[49m\u001b[43m \u001b[49m\u001b[38;5;28;43mself\u001b[39;49m\u001b[43m,\u001b[49m\u001b[43m \u001b[49m\u001b[43m(\u001b[49m\u001b[43minit_dual_a\u001b[49m\u001b[43m,\u001b[49m\u001b[43m \u001b[49m\u001b[43minit_dual_b\u001b[49m\u001b[43m)\u001b[49m\u001b[43m)\u001b[49m\n",
            "File \u001b[0;32m~/miniconda3/envs/rapidsjpp/lib/python3.10/site-packages/ott/solvers/linear/sinkhorn.py:1144\u001b[0m, in \u001b[0;36mrun\u001b[0;34m(ot_prob, solver, init)\u001b[0m\n\u001b[1;32m   1141\u001b[0m out \u001b[38;5;241m=\u001b[39m iter_fun(ot_prob, solver, init)\n\u001b[1;32m   1142\u001b[0m \u001b[38;5;66;03m# Be careful here, the geom and the cost are injected at the end, where it\u001b[39;00m\n\u001b[1;32m   1143\u001b[0m \u001b[38;5;66;03m# does not interfere with the implicit differentiation.\u001b[39;00m\n\u001b[0;32m-> 1144\u001b[0m out \u001b[38;5;241m=\u001b[39m \u001b[43mout\u001b[49m\u001b[38;5;241;43m.\u001b[39;49m\u001b[43mset_cost\u001b[49m\u001b[43m(\u001b[49m\u001b[43mot_prob\u001b[49m\u001b[43m,\u001b[49m\u001b[43m \u001b[49m\u001b[43msolver\u001b[49m\u001b[38;5;241;43m.\u001b[39;49m\u001b[43mlse_mode\u001b[49m\u001b[43m,\u001b[49m\u001b[43m \u001b[49m\u001b[43msolver\u001b[49m\u001b[38;5;241;43m.\u001b[39;49m\u001b[43muse_danskin\u001b[49m\u001b[43m)\u001b[49m\n\u001b[1;32m   1145\u001b[0m \u001b[38;5;28;01mreturn\u001b[39;00m out\u001b[38;5;241m.\u001b[39mset(ot_prob\u001b[38;5;241m=\u001b[39mot_prob)\n",
            "File \u001b[0;32m~/miniconda3/envs/rapidsjpp/lib/python3.10/site-packages/ott/solvers/linear/sinkhorn.py:342\u001b[0m, in \u001b[0;36mSinkhornOutput.set_cost\u001b[0;34m(self, ot_prob, lse_mode, use_danskin)\u001b[0m\n\u001b[1;32m    340\u001b[0m f \u001b[38;5;241m=\u001b[39m jax\u001b[38;5;241m.\u001b[39mlax\u001b[38;5;241m.\u001b[39mstop_gradient(\u001b[38;5;28mself\u001b[39m\u001b[38;5;241m.\u001b[39mf) \u001b[38;5;28;01mif\u001b[39;00m use_danskin \u001b[38;5;28;01melse\u001b[39;00m \u001b[38;5;28mself\u001b[39m\u001b[38;5;241m.\u001b[39mf\n\u001b[1;32m    341\u001b[0m g \u001b[38;5;241m=\u001b[39m jax\u001b[38;5;241m.\u001b[39mlax\u001b[38;5;241m.\u001b[39mstop_gradient(\u001b[38;5;28mself\u001b[39m\u001b[38;5;241m.\u001b[39mg) \u001b[38;5;28;01mif\u001b[39;00m use_danskin \u001b[38;5;28;01melse\u001b[39;00m \u001b[38;5;28mself\u001b[39m\u001b[38;5;241m.\u001b[39mg\n\u001b[0;32m--> 342\u001b[0m \u001b[38;5;28;01mreturn\u001b[39;00m \u001b[38;5;28mself\u001b[39m\u001b[38;5;241m.\u001b[39mset(reg_ot_cost\u001b[38;5;241m=\u001b[39m\u001b[43mcompute_kl_reg_cost\u001b[49m\u001b[43m(\u001b[49m\u001b[43mf\u001b[49m\u001b[43m,\u001b[49m\u001b[43m \u001b[49m\u001b[43mg\u001b[49m\u001b[43m,\u001b[49m\u001b[43m \u001b[49m\u001b[43mot_prob\u001b[49m\u001b[43m,\u001b[49m\u001b[43m \u001b[49m\u001b[43mlse_mode\u001b[49m\u001b[43m)\u001b[49m)\n",
            "File \u001b[0;32m~/miniconda3/envs/rapidsjpp/lib/python3.10/site-packages/ott/solvers/linear/sinkhorn.py:256\u001b[0m, in \u001b[0;36mcompute_kl_reg_cost\u001b[0;34m(f, g, ot_prob, lse_mode)\u001b[0m\n\u001b[1;32m    254\u001b[0m supp_a \u001b[38;5;241m=\u001b[39m ot_prob\u001b[38;5;241m.\u001b[39ma \u001b[38;5;241m>\u001b[39m \u001b[38;5;241m0\u001b[39m\n\u001b[1;32m    255\u001b[0m supp_b \u001b[38;5;241m=\u001b[39m ot_prob\u001b[38;5;241m.\u001b[39mb \u001b[38;5;241m>\u001b[39m \u001b[38;5;241m0\u001b[39m\n\u001b[0;32m--> 256\u001b[0m fa \u001b[38;5;241m=\u001b[39m \u001b[43mot_prob\u001b[49m\u001b[38;5;241;43m.\u001b[39;49m\u001b[43mgeom\u001b[49m\u001b[38;5;241;43m.\u001b[39;49m\u001b[43mpotential_from_scaling\u001b[49m\u001b[43m(\u001b[49m\u001b[43mot_prob\u001b[49m\u001b[38;5;241;43m.\u001b[39;49m\u001b[43ma\u001b[49m\u001b[43m)\u001b[49m\n\u001b[1;32m    257\u001b[0m \u001b[38;5;28;01mif\u001b[39;00m ot_prob\u001b[38;5;241m.\u001b[39mtau_a \u001b[38;5;241m==\u001b[39m \u001b[38;5;241m1.0\u001b[39m:\n\u001b[1;32m    258\u001b[0m   div_a \u001b[38;5;241m=\u001b[39m jnp\u001b[38;5;241m.\u001b[39msum(jnp\u001b[38;5;241m.\u001b[39mwhere(supp_a, ot_prob\u001b[38;5;241m.\u001b[39ma \u001b[38;5;241m*\u001b[39m (f \u001b[38;5;241m-\u001b[39m fa), \u001b[38;5;241m0.0\u001b[39m))\n",
            "File \u001b[0;32m~/miniconda3/envs/rapidsjpp/lib/python3.10/site-packages/ott/geometry/geometry.py:519\u001b[0m, in \u001b[0;36mGeometry.potential_from_scaling\u001b[0;34m(self, scaling)\u001b[0m\n\u001b[1;32m    510\u001b[0m \u001b[38;5;28;01mdef\u001b[39;00m \u001b[38;5;21mpotential_from_scaling\u001b[39m(\u001b[38;5;28mself\u001b[39m, scaling: jnp\u001b[38;5;241m.\u001b[39mndarray) \u001b[38;5;241m-\u001b[39m\u001b[38;5;241m>\u001b[39m jnp\u001b[38;5;241m.\u001b[39mndarray:\n\u001b[1;32m    511\u001b[0m \u001b[38;5;250m  \u001b[39m\u001b[38;5;124;03m\"\"\"Compute dual potential vector from scaling vector.\u001b[39;00m\n\u001b[1;32m    512\u001b[0m \n\u001b[1;32m    513\u001b[0m \u001b[38;5;124;03m  Args:\u001b[39;00m\n\u001b[0;32m   (...)\u001b[0m\n\u001b[1;32m    517\u001b[0m \u001b[38;5;124;03m    a vector of the same size.\u001b[39;00m\n\u001b[1;32m    518\u001b[0m \u001b[38;5;124;03m  \"\"\"\u001b[39;00m\n\u001b[0;32m--> 519\u001b[0m   \u001b[38;5;28;01mreturn\u001b[39;00m \u001b[38;5;28;43mself\u001b[39;49m\u001b[38;5;241;43m.\u001b[39;49m\u001b[43mepsilon\u001b[49m \u001b[38;5;241m*\u001b[39m jnp\u001b[38;5;241m.\u001b[39mlog(scaling)\n",
            "File \u001b[0;32m~/miniconda3/envs/rapidsjpp/lib/python3.10/site-packages/ott/geometry/geometry.py:162\u001b[0m, in \u001b[0;36mGeometry.epsilon\u001b[0;34m(self)\u001b[0m\n\u001b[1;32m    159\u001b[0m \u001b[38;5;129m@property\u001b[39m\n\u001b[1;32m    160\u001b[0m \u001b[38;5;28;01mdef\u001b[39;00m \u001b[38;5;21mepsilon\u001b[39m(\u001b[38;5;28mself\u001b[39m) \u001b[38;5;241m-\u001b[39m\u001b[38;5;241m>\u001b[39m \u001b[38;5;28mfloat\u001b[39m:\n\u001b[1;32m    161\u001b[0m \u001b[38;5;250m  \u001b[39m\u001b[38;5;124;03m\"\"\"Epsilon regularization value.\"\"\"\u001b[39;00m\n\u001b[0;32m--> 162\u001b[0m   \u001b[38;5;28;01mreturn\u001b[39;00m \u001b[38;5;28;43mself\u001b[39;49m\u001b[38;5;241;43m.\u001b[39;49m\u001b[43m_epsilon\u001b[49m\u001b[38;5;241m.\u001b[39mtarget\n",
            "File \u001b[0;32m~/miniconda3/envs/rapidsjpp/lib/python3.10/site-packages/ott/geometry/geometry.py:150\u001b[0m, in \u001b[0;36mGeometry._epsilon\u001b[0;34m(self)\u001b[0m\n\u001b[1;32m    148\u001b[0m use_mean_scale \u001b[38;5;241m=\u001b[39m rel \u001b[38;5;129;01mis\u001b[39;00m \u001b[38;5;28;01mTrue\u001b[39;00m \u001b[38;5;129;01mor\u001b[39;00m (rel \u001b[38;5;129;01mis\u001b[39;00m \u001b[38;5;28;01mNone\u001b[39;00m \u001b[38;5;129;01mand\u001b[39;00m target \u001b[38;5;129;01mis\u001b[39;00m \u001b[38;5;28;01mNone\u001b[39;00m)\n\u001b[1;32m    149\u001b[0m \u001b[38;5;28;01mif\u001b[39;00m scale_eps \u001b[38;5;129;01mis\u001b[39;00m \u001b[38;5;28;01mNone\u001b[39;00m \u001b[38;5;129;01mand\u001b[39;00m use_mean_scale:\n\u001b[0;32m--> 150\u001b[0m   scale_eps \u001b[38;5;241m=\u001b[39m jax\u001b[38;5;241m.\u001b[39mlax\u001b[38;5;241m.\u001b[39mstop_gradient(\u001b[38;5;28;43mself\u001b[39;49m\u001b[38;5;241;43m.\u001b[39;49m\u001b[43mmean_cost_matrix\u001b[49m)\n\u001b[1;32m    152\u001b[0m \u001b[38;5;28;01mif\u001b[39;00m \u001b[38;5;28misinstance\u001b[39m(\u001b[38;5;28mself\u001b[39m\u001b[38;5;241m.\u001b[39m_epsilon_init, epsilon_scheduler\u001b[38;5;241m.\u001b[39mEpsilon):\n\u001b[1;32m    153\u001b[0m   \u001b[38;5;28;01mreturn\u001b[39;00m \u001b[38;5;28mself\u001b[39m\u001b[38;5;241m.\u001b[39m_epsilon_init\u001b[38;5;241m.\u001b[39mset(scale_epsilon\u001b[38;5;241m=\u001b[39mscale_eps)\n",
            "File \u001b[0;32m~/miniconda3/envs/rapidsjpp/lib/python3.10/site-packages/ott/geometry/geometry.py:130\u001b[0m, in \u001b[0;36mGeometry.mean_cost_matrix\u001b[0;34m(self)\u001b[0m\n\u001b[1;32m    127\u001b[0m \u001b[38;5;129m@property\u001b[39m\n\u001b[1;32m    128\u001b[0m \u001b[38;5;28;01mdef\u001b[39;00m \u001b[38;5;21mmean_cost_matrix\u001b[39m(\u001b[38;5;28mself\u001b[39m) \u001b[38;5;241m-\u001b[39m\u001b[38;5;241m>\u001b[39m \u001b[38;5;28mfloat\u001b[39m:\n\u001b[1;32m    129\u001b[0m \u001b[38;5;250m  \u001b[39m\u001b[38;5;124;03m\"\"\"Mean of the :attr:`cost_matrix`.\"\"\"\u001b[39;00m\n\u001b[0;32m--> 130\u001b[0m   tmp \u001b[38;5;241m=\u001b[39m \u001b[38;5;28;43mself\u001b[39;49m\u001b[38;5;241;43m.\u001b[39;49m\u001b[43m_masked_geom\u001b[49m\u001b[43m(\u001b[49m\u001b[43m)\u001b[49m\u001b[38;5;241;43m.\u001b[39;49m\u001b[43mapply_cost\u001b[49m\u001b[43m(\u001b[49m\u001b[38;5;28;43mself\u001b[39;49m\u001b[38;5;241;43m.\u001b[39;49m\u001b[43m_n_normed_ones\u001b[49m\u001b[43m)\u001b[49m\u001b[38;5;241m.\u001b[39msqueeze()\n\u001b[1;32m    131\u001b[0m   \u001b[38;5;28;01mreturn\u001b[39;00m jnp\u001b[38;5;241m.\u001b[39msum(tmp \u001b[38;5;241m*\u001b[39m \u001b[38;5;28mself\u001b[39m\u001b[38;5;241m.\u001b[39m_m_normed_ones)\n",
            "File \u001b[0;32m~/miniconda3/envs/rapidsjpp/lib/python3.10/site-packages/ott/geometry/pointcloud.py:376\u001b[0m, in \u001b[0;36mPointCloud.apply_cost\u001b[0;34m(self, arr, axis, fn, is_linear)\u001b[0m\n\u001b[1;32m    373\u001b[0m \u001b[38;5;28;01mif\u001b[39;00m \u001b[38;5;28mself\u001b[39m\u001b[38;5;241m.\u001b[39mis_squared_euclidean \u001b[38;5;129;01mand\u001b[39;00m (fn \u001b[38;5;129;01mis\u001b[39;00m \u001b[38;5;28;01mNone\u001b[39;00m \u001b[38;5;129;01mor\u001b[39;00m is_linear):\n\u001b[1;32m    374\u001b[0m   \u001b[38;5;28;01mreturn\u001b[39;00m \u001b[38;5;28mself\u001b[39m\u001b[38;5;241m.\u001b[39mvec_apply_cost(arr, axis, fn\u001b[38;5;241m=\u001b[39mfn)\n\u001b[0;32m--> 376\u001b[0m \u001b[38;5;28;01mreturn\u001b[39;00m \u001b[38;5;28;43mself\u001b[39;49m\u001b[38;5;241;43m.\u001b[39;49m\u001b[43m_apply_cost\u001b[49m\u001b[43m(\u001b[49m\u001b[43marr\u001b[49m\u001b[43m,\u001b[49m\u001b[43m \u001b[49m\u001b[43maxis\u001b[49m\u001b[43m,\u001b[49m\u001b[43m \u001b[49m\u001b[43mfn\u001b[49m\u001b[38;5;241;43m=\u001b[39;49m\u001b[43mfn\u001b[49m\u001b[43m)\u001b[49m\n",
            "File \u001b[0;32m~/miniconda3/envs/rapidsjpp/lib/python3.10/site-packages/ott/geometry/pointcloud.py:383\u001b[0m, in \u001b[0;36mPointCloud._apply_cost\u001b[0;34m(self, arr, axis, fn)\u001b[0m\n\u001b[1;32m    381\u001b[0m \u001b[38;5;250m\u001b[39m\u001b[38;5;124;03m\"\"\"See :meth:`apply_cost`.\"\"\"\u001b[39;00m\n\u001b[1;32m    382\u001b[0m \u001b[38;5;28;01mif\u001b[39;00m \u001b[38;5;129;01mnot\u001b[39;00m \u001b[38;5;28mself\u001b[39m\u001b[38;5;241m.\u001b[39mis_online:\n\u001b[0;32m--> 383\u001b[0m   \u001b[38;5;28;01mreturn\u001b[39;00m \u001b[38;5;28;43msuper\u001b[39;49m\u001b[43m(\u001b[49m\u001b[43m)\u001b[49m\u001b[38;5;241;43m.\u001b[39;49m\u001b[43mapply_cost\u001b[49m\u001b[43m(\u001b[49m\u001b[43marr\u001b[49m\u001b[43m,\u001b[49m\u001b[43m \u001b[49m\u001b[43maxis\u001b[49m\u001b[43m,\u001b[49m\u001b[43m \u001b[49m\u001b[43mfn\u001b[49m\u001b[43m)\u001b[49m\n\u001b[1;32m    385\u001b[0m app \u001b[38;5;241m=\u001b[39m jax\u001b[38;5;241m.\u001b[39mvmap(\n\u001b[1;32m    386\u001b[0m     _apply_cost_xy,\n\u001b[1;32m    387\u001b[0m     in_axes\u001b[38;5;241m=\u001b[39m[\u001b[38;5;28;01mNone\u001b[39;00m, \u001b[38;5;241m0\u001b[39m, \u001b[38;5;28;01mNone\u001b[39;00m, \u001b[38;5;28mself\u001b[39m\u001b[38;5;241m.\u001b[39m_axis_norm, \u001b[38;5;28;01mNone\u001b[39;00m, \u001b[38;5;28;01mNone\u001b[39;00m, \u001b[38;5;28;01mNone\u001b[39;00m, \u001b[38;5;28;01mNone\u001b[39;00m]\n\u001b[1;32m    388\u001b[0m )\n\u001b[1;32m    389\u001b[0m \u001b[38;5;28;01mif\u001b[39;00m arr\u001b[38;5;241m.\u001b[39mndim \u001b[38;5;241m==\u001b[39m \u001b[38;5;241m1\u001b[39m:\n",
            "File \u001b[0;32m~/miniconda3/envs/rapidsjpp/lib/python3.10/site-packages/ott/geometry/geometry.py:582\u001b[0m, in \u001b[0;36mGeometry.apply_cost\u001b[0;34m(self, arr, axis, fn, **kwargs)\u001b[0m\n\u001b[1;32m    579\u001b[0m   arr \u001b[38;5;241m=\u001b[39m arr\u001b[38;5;241m.\u001b[39mreshape(\u001b[38;5;241m-\u001b[39m\u001b[38;5;241m1\u001b[39m, \u001b[38;5;241m1\u001b[39m)\n\u001b[1;32m    581\u001b[0m app \u001b[38;5;241m=\u001b[39m functools\u001b[38;5;241m.\u001b[39mpartial(\u001b[38;5;28mself\u001b[39m\u001b[38;5;241m.\u001b[39m_apply_cost_to_vec, axis\u001b[38;5;241m=\u001b[39maxis, fn\u001b[38;5;241m=\u001b[39mfn, \u001b[38;5;241m*\u001b[39m\u001b[38;5;241m*\u001b[39mkwargs)\n\u001b[0;32m--> 582\u001b[0m \u001b[38;5;28;01mreturn\u001b[39;00m \u001b[43mjax\u001b[49m\u001b[38;5;241;43m.\u001b[39;49m\u001b[43mvmap\u001b[49m\u001b[43m(\u001b[49m\u001b[43mapp\u001b[49m\u001b[43m,\u001b[49m\u001b[43m \u001b[49m\u001b[43min_axes\u001b[49m\u001b[38;5;241;43m=\u001b[39;49m\u001b[38;5;241;43m1\u001b[39;49m\u001b[43m,\u001b[49m\u001b[43m \u001b[49m\u001b[43mout_axes\u001b[49m\u001b[38;5;241;43m=\u001b[39;49m\u001b[38;5;241;43m1\u001b[39;49m\u001b[43m)\u001b[49m\u001b[43m(\u001b[49m\u001b[43marr\u001b[49m\u001b[43m)\u001b[49m\n",
            "    \u001b[0;31m[... skipping hidden 3 frame]\u001b[0m\n",
            "File \u001b[0;32m~/miniconda3/envs/rapidsjpp/lib/python3.10/site-packages/ott/geometry/geometry.py:602\u001b[0m, in \u001b[0;36mGeometry._apply_cost_to_vec\u001b[0;34m(self, vec, axis, fn, **_)\u001b[0m\n\u001b[1;32m    584\u001b[0m \u001b[38;5;28;01mdef\u001b[39;00m \u001b[38;5;21m_apply_cost_to_vec\u001b[39m(\n\u001b[1;32m    585\u001b[0m     \u001b[38;5;28mself\u001b[39m,\n\u001b[1;32m    586\u001b[0m     vec: jnp\u001b[38;5;241m.\u001b[39mndarray,\n\u001b[0;32m   (...)\u001b[0m\n\u001b[1;32m    589\u001b[0m     \u001b[38;5;241m*\u001b[39m\u001b[38;5;241m*\u001b[39m_: Any,\n\u001b[1;32m    590\u001b[0m ) \u001b[38;5;241m-\u001b[39m\u001b[38;5;241m>\u001b[39m jnp\u001b[38;5;241m.\u001b[39mndarray:\n\u001b[1;32m    591\u001b[0m \u001b[38;5;250m  \u001b[39m\u001b[38;5;124;03m\"\"\"Apply ``[num_a, num_b]`` fn(cost) (or transpose) to vector.\u001b[39;00m\n\u001b[1;32m    592\u001b[0m \n\u001b[1;32m    593\u001b[0m \u001b[38;5;124;03m  Args:\u001b[39;00m\n\u001b[0;32m   (...)\u001b[0m\n\u001b[1;32m    600\u001b[0m \u001b[38;5;124;03m    A jnp.ndarray corresponding to cost x vector\u001b[39;00m\n\u001b[1;32m    601\u001b[0m \u001b[38;5;124;03m  \"\"\"\u001b[39;00m\n\u001b[0;32m--> 602\u001b[0m   matrix \u001b[38;5;241m=\u001b[39m \u001b[38;5;28;43mself\u001b[39;49m\u001b[38;5;241;43m.\u001b[39;49m\u001b[43mcost_matrix\u001b[49m\u001b[38;5;241m.\u001b[39mT \u001b[38;5;28;01mif\u001b[39;00m axis \u001b[38;5;241m==\u001b[39m \u001b[38;5;241m0\u001b[39m \u001b[38;5;28;01melse\u001b[39;00m \u001b[38;5;28mself\u001b[39m\u001b[38;5;241m.\u001b[39mcost_matrix\n\u001b[1;32m    603\u001b[0m   matrix \u001b[38;5;241m=\u001b[39m fn(matrix) \u001b[38;5;28;01mif\u001b[39;00m fn \u001b[38;5;129;01mis\u001b[39;00m \u001b[38;5;129;01mnot\u001b[39;00m \u001b[38;5;28;01mNone\u001b[39;00m \u001b[38;5;28;01melse\u001b[39;00m matrix\n\u001b[1;32m    604\u001b[0m   \u001b[38;5;28;01mreturn\u001b[39;00m jnp\u001b[38;5;241m.\u001b[39mdot(matrix, vec)\n",
            "File \u001b[0;32m~/miniconda3/envs/rapidsjpp/lib/python3.10/site-packages/ott/geometry/pointcloud.py:104\u001b[0m, in \u001b[0;36mPointCloud.cost_matrix\u001b[0;34m(self)\u001b[0m\n\u001b[1;32m    102\u001b[0m \u001b[38;5;28;01mif\u001b[39;00m \u001b[38;5;28mself\u001b[39m\u001b[38;5;241m.\u001b[39mis_online:\n\u001b[1;32m    103\u001b[0m   \u001b[38;5;28;01mreturn\u001b[39;00m \u001b[38;5;28;01mNone\u001b[39;00m\n\u001b[0;32m--> 104\u001b[0m cost_matrix \u001b[38;5;241m=\u001b[39m \u001b[38;5;28;43mself\u001b[39;49m\u001b[38;5;241;43m.\u001b[39;49m\u001b[43m_compute_cost_matrix\u001b[49m\u001b[43m(\u001b[49m\u001b[43m)\u001b[49m\n\u001b[1;32m    105\u001b[0m \u001b[38;5;28;01mreturn\u001b[39;00m cost_matrix \u001b[38;5;241m*\u001b[39m \u001b[38;5;28mself\u001b[39m\u001b[38;5;241m.\u001b[39minv_scale_cost\n",
            "File \u001b[0;32m~/miniconda3/envs/rapidsjpp/lib/python3.10/site-packages/ott/geometry/pointcloud.py:187\u001b[0m, in \u001b[0;36mPointCloud._compute_cost_matrix\u001b[0;34m(self)\u001b[0m\n\u001b[1;32m    186\u001b[0m \u001b[38;5;28;01mdef\u001b[39;00m \u001b[38;5;21m_compute_cost_matrix\u001b[39m(\u001b[38;5;28mself\u001b[39m) \u001b[38;5;241m-\u001b[39m\u001b[38;5;241m>\u001b[39m jnp\u001b[38;5;241m.\u001b[39mndarray:\n\u001b[0;32m--> 187\u001b[0m   cost_matrix \u001b[38;5;241m=\u001b[39m \u001b[38;5;28;43mself\u001b[39;49m\u001b[38;5;241;43m.\u001b[39;49m\u001b[43mcost_fn\u001b[49m\u001b[38;5;241;43m.\u001b[39;49m\u001b[43mall_pairs_pairwise\u001b[49m\u001b[43m(\u001b[49m\u001b[38;5;28;43mself\u001b[39;49m\u001b[38;5;241;43m.\u001b[39;49m\u001b[43mx\u001b[49m\u001b[43m,\u001b[49m\u001b[43m \u001b[49m\u001b[38;5;28;43mself\u001b[39;49m\u001b[38;5;241;43m.\u001b[39;49m\u001b[43my\u001b[49m\u001b[43m)\u001b[49m\n\u001b[1;32m    188\u001b[0m   \u001b[38;5;28;01mif\u001b[39;00m \u001b[38;5;28mself\u001b[39m\u001b[38;5;241m.\u001b[39m_axis_norm \u001b[38;5;129;01mis\u001b[39;00m \u001b[38;5;129;01mnot\u001b[39;00m \u001b[38;5;28;01mNone\u001b[39;00m:\n\u001b[1;32m    189\u001b[0m     cost_matrix \u001b[38;5;241m+\u001b[39m\u001b[38;5;241m=\u001b[39m \u001b[38;5;28mself\u001b[39m\u001b[38;5;241m.\u001b[39m_norm_x[:, jnp\u001b[38;5;241m.\u001b[39mnewaxis] \u001b[38;5;241m+\u001b[39m \u001b[38;5;28mself\u001b[39m\u001b[38;5;241m.\u001b[39m_norm_y[jnp\u001b[38;5;241m.\u001b[39mnewaxis, :]\n",
            "File \u001b[0;32m~/miniconda3/envs/rapidsjpp/lib/python3.10/site-packages/ott/geometry/costs.py:139\u001b[0m, in \u001b[0;36mCostFn.all_pairs_pairwise\u001b[0;34m(self, x, y)\u001b[0m\n\u001b[1;32m    129\u001b[0m \u001b[38;5;28;01mdef\u001b[39;00m \u001b[38;5;21mall_pairs_pairwise\u001b[39m(\u001b[38;5;28mself\u001b[39m, x: jnp\u001b[38;5;241m.\u001b[39mndarray, y: jnp\u001b[38;5;241m.\u001b[39mndarray) \u001b[38;5;241m-\u001b[39m\u001b[38;5;241m>\u001b[39m jnp\u001b[38;5;241m.\u001b[39mndarray:\n\u001b[1;32m    130\u001b[0m \u001b[38;5;250m  \u001b[39m\u001b[38;5;124;03m\"\"\"Compute matrix of all pairwise costs, excluding the :attr:`norms <norm>`.\u001b[39;00m\n\u001b[1;32m    131\u001b[0m \n\u001b[1;32m    132\u001b[0m \u001b[38;5;124;03m  Args:\u001b[39;00m\n\u001b[0;32m   (...)\u001b[0m\n\u001b[1;32m    137\u001b[0m \u001b[38;5;124;03m    Array of shape ``[n, m]`` of cost evaluations.\u001b[39;00m\n\u001b[1;32m    138\u001b[0m \u001b[38;5;124;03m  \"\"\"\u001b[39;00m\n\u001b[0;32m--> 139\u001b[0m   \u001b[38;5;28;01mreturn\u001b[39;00m \u001b[43mjax\u001b[49m\u001b[38;5;241;43m.\u001b[39;49m\u001b[43mvmap\u001b[49m\u001b[43m(\u001b[49m\u001b[38;5;28;43;01mlambda\u001b[39;49;00m\u001b[43m \u001b[49m\u001b[43mx_\u001b[49m\u001b[43m:\u001b[49m\u001b[43m \u001b[49m\u001b[43mjax\u001b[49m\u001b[38;5;241;43m.\u001b[39;49m\u001b[43mvmap\u001b[49m\u001b[43m(\u001b[49m\u001b[38;5;28;43;01mlambda\u001b[39;49;00m\u001b[43m \u001b[49m\u001b[43my_\u001b[49m\u001b[43m:\u001b[49m\u001b[43m \u001b[49m\u001b[38;5;28;43mself\u001b[39;49m\u001b[38;5;241;43m.\u001b[39;49m\u001b[43mpairwise\u001b[49m\u001b[43m(\u001b[49m\u001b[43mx_\u001b[49m\u001b[43m,\u001b[49m\u001b[43m \u001b[49m\u001b[43my_\u001b[49m\u001b[43m)\u001b[49m\u001b[43m)\u001b[49m\u001b[43m(\u001b[49m\u001b[43my\u001b[49m\u001b[43m)\u001b[49m\u001b[43m)\u001b[49m\u001b[43m(\u001b[49m\u001b[43mx\u001b[49m\u001b[43m)\u001b[49m\n",
            "    \u001b[0;31m[... skipping hidden 3 frame]\u001b[0m\n",
            "File \u001b[0;32m~/miniconda3/envs/rapidsjpp/lib/python3.10/site-packages/ott/geometry/costs.py:139\u001b[0m, in \u001b[0;36mCostFn.all_pairs_pairwise.<locals>.<lambda>\u001b[0;34m(x_)\u001b[0m\n\u001b[1;32m    129\u001b[0m \u001b[38;5;28;01mdef\u001b[39;00m \u001b[38;5;21mall_pairs_pairwise\u001b[39m(\u001b[38;5;28mself\u001b[39m, x: jnp\u001b[38;5;241m.\u001b[39mndarray, y: jnp\u001b[38;5;241m.\u001b[39mndarray) \u001b[38;5;241m-\u001b[39m\u001b[38;5;241m>\u001b[39m jnp\u001b[38;5;241m.\u001b[39mndarray:\n\u001b[1;32m    130\u001b[0m \u001b[38;5;250m  \u001b[39m\u001b[38;5;124;03m\"\"\"Compute matrix of all pairwise costs, excluding the :attr:`norms <norm>`.\u001b[39;00m\n\u001b[1;32m    131\u001b[0m \n\u001b[1;32m    132\u001b[0m \u001b[38;5;124;03m  Args:\u001b[39;00m\n\u001b[0;32m   (...)\u001b[0m\n\u001b[1;32m    137\u001b[0m \u001b[38;5;124;03m    Array of shape ``[n, m]`` of cost evaluations.\u001b[39;00m\n\u001b[1;32m    138\u001b[0m \u001b[38;5;124;03m  \"\"\"\u001b[39;00m\n\u001b[0;32m--> 139\u001b[0m   \u001b[38;5;28;01mreturn\u001b[39;00m jax\u001b[38;5;241m.\u001b[39mvmap(\u001b[38;5;28;01mlambda\u001b[39;00m x_: \u001b[43mjax\u001b[49m\u001b[38;5;241;43m.\u001b[39;49m\u001b[43mvmap\u001b[49m\u001b[43m(\u001b[49m\u001b[38;5;28;43;01mlambda\u001b[39;49;00m\u001b[43m \u001b[49m\u001b[43my_\u001b[49m\u001b[43m:\u001b[49m\u001b[43m \u001b[49m\u001b[38;5;28;43mself\u001b[39;49m\u001b[38;5;241;43m.\u001b[39;49m\u001b[43mpairwise\u001b[49m\u001b[43m(\u001b[49m\u001b[43mx_\u001b[49m\u001b[43m,\u001b[49m\u001b[43m \u001b[49m\u001b[43my_\u001b[49m\u001b[43m)\u001b[49m\u001b[43m)\u001b[49m\u001b[43m(\u001b[49m\u001b[43my\u001b[49m\u001b[43m)\u001b[49m)(x)\n",
            "    \u001b[0;31m[... skipping hidden 3 frame]\u001b[0m\n",
            "File \u001b[0;32m~/miniconda3/envs/rapidsjpp/lib/python3.10/site-packages/ott/geometry/costs.py:139\u001b[0m, in \u001b[0;36mCostFn.all_pairs_pairwise.<locals>.<lambda>\u001b[0;34m(y_)\u001b[0m\n\u001b[1;32m    129\u001b[0m \u001b[38;5;28;01mdef\u001b[39;00m \u001b[38;5;21mall_pairs_pairwise\u001b[39m(\u001b[38;5;28mself\u001b[39m, x: jnp\u001b[38;5;241m.\u001b[39mndarray, y: jnp\u001b[38;5;241m.\u001b[39mndarray) \u001b[38;5;241m-\u001b[39m\u001b[38;5;241m>\u001b[39m jnp\u001b[38;5;241m.\u001b[39mndarray:\n\u001b[1;32m    130\u001b[0m \u001b[38;5;250m  \u001b[39m\u001b[38;5;124;03m\"\"\"Compute matrix of all pairwise costs, excluding the :attr:`norms <norm>`.\u001b[39;00m\n\u001b[1;32m    131\u001b[0m \n\u001b[1;32m    132\u001b[0m \u001b[38;5;124;03m  Args:\u001b[39;00m\n\u001b[0;32m   (...)\u001b[0m\n\u001b[1;32m    137\u001b[0m \u001b[38;5;124;03m    Array of shape ``[n, m]`` of cost evaluations.\u001b[39;00m\n\u001b[1;32m    138\u001b[0m \u001b[38;5;124;03m  \"\"\"\u001b[39;00m\n\u001b[0;32m--> 139\u001b[0m   \u001b[38;5;28;01mreturn\u001b[39;00m jax\u001b[38;5;241m.\u001b[39mvmap(\u001b[38;5;28;01mlambda\u001b[39;00m x_: jax\u001b[38;5;241m.\u001b[39mvmap(\u001b[38;5;28;01mlambda\u001b[39;00m y_: \u001b[38;5;28;43mself\u001b[39;49m\u001b[38;5;241;43m.\u001b[39;49m\u001b[43mpairwise\u001b[49m\u001b[43m(\u001b[49m\u001b[43mx_\u001b[49m\u001b[43m,\u001b[49m\u001b[43m \u001b[49m\u001b[43my_\u001b[49m\u001b[43m)\u001b[49m)(y))(x)\n",
            "File \u001b[0;32m~/miniconda3/envs/rapidsjpp/lib/python3.10/site-packages/ott/geometry/costs.py:183\u001b[0m, in \u001b[0;36mTICost.pairwise\u001b[0;34m(self, x, y)\u001b[0m\n\u001b[1;32m    181\u001b[0m \u001b[38;5;28;01mdef\u001b[39;00m \u001b[38;5;21mpairwise\u001b[39m(\u001b[38;5;28mself\u001b[39m, x: jnp\u001b[38;5;241m.\u001b[39mndarray, y: jnp\u001b[38;5;241m.\u001b[39mndarray) \u001b[38;5;241m-\u001b[39m\u001b[38;5;241m>\u001b[39m \u001b[38;5;28mfloat\u001b[39m:\n\u001b[1;32m    182\u001b[0m \u001b[38;5;250m  \u001b[39m\u001b[38;5;124;03m\"\"\"Compute cost as evaluation of :func:`h` on :math:`x-y`.\"\"\"\u001b[39;00m\n\u001b[0;32m--> 183\u001b[0m   \u001b[38;5;28;01mreturn\u001b[39;00m \u001b[38;5;28mself\u001b[39m\u001b[38;5;241m.\u001b[39mh(\u001b[43mx\u001b[49m\u001b[43m \u001b[49m\u001b[38;5;241;43m-\u001b[39;49m\u001b[43m \u001b[49m\u001b[43my\u001b[49m)\n",
            "File \u001b[0;32m~/miniconda3/envs/rapidsjpp/lib/python3.10/site-packages/jax/_src/numpy/array_methods.py:736\u001b[0m, in \u001b[0;36m_forward_operator_to_aval.<locals>.op\u001b[0;34m(self, *args)\u001b[0m\n\u001b[1;32m    735\u001b[0m \u001b[38;5;28;01mdef\u001b[39;00m \u001b[38;5;21mop\u001b[39m(\u001b[38;5;28mself\u001b[39m, \u001b[38;5;241m*\u001b[39margs):\n\u001b[0;32m--> 736\u001b[0m   \u001b[38;5;28;01mreturn\u001b[39;00m \u001b[38;5;28;43mgetattr\u001b[39;49m\u001b[43m(\u001b[49m\u001b[38;5;28;43mself\u001b[39;49m\u001b[38;5;241;43m.\u001b[39;49m\u001b[43maval\u001b[49m\u001b[43m,\u001b[49m\u001b[43m \u001b[49m\u001b[38;5;124;43mf\u001b[39;49m\u001b[38;5;124;43m\"\u001b[39;49m\u001b[38;5;124;43m_\u001b[39;49m\u001b[38;5;132;43;01m{\u001b[39;49;00m\u001b[43mname\u001b[49m\u001b[38;5;132;43;01m}\u001b[39;49;00m\u001b[38;5;124;43m\"\u001b[39;49m\u001b[43m)\u001b[49m\u001b[43m(\u001b[49m\u001b[38;5;28;43mself\u001b[39;49m\u001b[43m,\u001b[49m\u001b[43m \u001b[49m\u001b[38;5;241;43m*\u001b[39;49m\u001b[43margs\u001b[49m\u001b[43m)\u001b[49m\n",
            "File \u001b[0;32m~/miniconda3/envs/rapidsjpp/lib/python3.10/site-packages/jax/_src/numpy/array_methods.py:264\u001b[0m, in \u001b[0;36m_defer_to_unrecognized_arg.<locals>.deferring_binary_op\u001b[0;34m(self, other)\u001b[0m\n\u001b[1;32m    262\u001b[0m args \u001b[38;5;241m=\u001b[39m (other, \u001b[38;5;28mself\u001b[39m) \u001b[38;5;28;01mif\u001b[39;00m swap \u001b[38;5;28;01melse\u001b[39;00m (\u001b[38;5;28mself\u001b[39m, other)\n\u001b[1;32m    263\u001b[0m \u001b[38;5;28;01mif\u001b[39;00m \u001b[38;5;28misinstance\u001b[39m(other, _accepted_binop_types):\n\u001b[0;32m--> 264\u001b[0m   \u001b[38;5;28;01mreturn\u001b[39;00m \u001b[43mbinary_op\u001b[49m\u001b[43m(\u001b[49m\u001b[38;5;241;43m*\u001b[39;49m\u001b[43margs\u001b[49m\u001b[43m)\u001b[49m\n\u001b[1;32m    265\u001b[0m \u001b[38;5;66;03m# Note: don't use isinstance here, because we don't want to raise for\u001b[39;00m\n\u001b[1;32m    266\u001b[0m \u001b[38;5;66;03m# subclasses, e.g. NamedTuple objects that may override operators.\u001b[39;00m\n\u001b[1;32m    267\u001b[0m \u001b[38;5;28;01mif\u001b[39;00m \u001b[38;5;28mtype\u001b[39m(other) \u001b[38;5;129;01min\u001b[39;00m _rejected_binop_types:\n",
            "    \u001b[0;31m[... skipping hidden 18 frame]\u001b[0m\n",
            "File \u001b[0;32m~/miniconda3/envs/rapidsjpp/lib/python3.10/site-packages/jax/_src/interpreters/pxla.py:1213\u001b[0m, in \u001b[0;36mExecuteReplicated.__call__\u001b[0;34m(self, *args)\u001b[0m\n\u001b[1;32m   1211\u001b[0m   \u001b[38;5;28mself\u001b[39m\u001b[38;5;241m.\u001b[39m_handle_token_bufs(result_token_bufs, sharded_runtime_token)\n\u001b[1;32m   1212\u001b[0m \u001b[38;5;28;01melse\u001b[39;00m:\n\u001b[0;32m-> 1213\u001b[0m   results \u001b[38;5;241m=\u001b[39m \u001b[38;5;28;43mself\u001b[39;49m\u001b[38;5;241;43m.\u001b[39;49m\u001b[43mxla_executable\u001b[49m\u001b[38;5;241;43m.\u001b[39;49m\u001b[43mexecute_sharded\u001b[49m\u001b[43m(\u001b[49m\u001b[43minput_bufs\u001b[49m\u001b[43m)\u001b[49m\n\u001b[1;32m   1214\u001b[0m \u001b[38;5;28;01mif\u001b[39;00m dispatch\u001b[38;5;241m.\u001b[39mneeds_check_special():\n\u001b[1;32m   1215\u001b[0m   out_arrays \u001b[38;5;241m=\u001b[39m results\u001b[38;5;241m.\u001b[39mdisassemble_into_single_device_arrays()\n",
            "\u001b[0;31mXlaRuntimeError\u001b[0m: RESOURCE_EXHAUSTED: Out of memory while trying to allocate 35781620000 bytes.\nBufferAssignment OOM Debugging.\nBufferAssignment stats:\n             parameter allocation:   68.85MiB\n              constant allocation:         0B\n        maybe_live_out allocation:   33.32GiB\n     preallocated temp allocation:         0B\n                 total allocation:   33.39GiB\n              total fragmentation:         0B (0.00%)\nPeak buffers:\n\tBuffer 1:\n\t\tSize: 33.32GiB\n\t\tOperator: op_name=\"jit(<lambda>)/jit(main)/sub\" source_file=\"/tmp/ipykernel_30588/2357495081.py\" source_line=23\n\t\tXLA Label: fusion\n\t\tShape: f32[3017,593,5000]\n\t\t==========================\n\n\tBuffer 2:\n\t\tSize: 57.54MiB\n\t\tEntry Parameter Subshape: f32[3017,5000]\n\t\t==========================\n\n\tBuffer 3:\n\t\tSize: 11.31MiB\n\t\tEntry Parameter Subshape: f32[593,5000]\n\t\t==========================\n\n"
          ]
        }
      ],
      "source": [
        "result = {}\n",
        "medocs = [\"Belinostat (PXD101)\",\n",
        "\"Hesperadin\",\n",
        "\"Givinostat (ITF2357)\",\n",
        "\"Dacinostat (LAQ824)\",\n",
        "\"Quisinostat (JNJ-26481585) 2HCl\"]\n",
        "from tqdm import tqdm\n",
        "for gamma in tqdm([2**(-i) for i in range(6)]):\n",
        "    for medoc in medocs :\n",
        "        for reg_name in [\"l1\", \"stvs\" ,None] :\n",
        "            for data_name  in [\"cell_data_5k\", \"cell_data_full\"] :\n",
        "                for pca_bool in [True, False] :\n",
        "                    if data_name == \"cell_data_5k\" :\n",
        "                        data = cell_data_5k\n",
        "                    else :\n",
        "                        data = cell_data_full\n",
        "                    result[medoc+\"|\"+reg_name+\"|\"+data_name+\"|\"+ str(pca_bool)+\"|\"+str(gamma)] = experiment(medoc, cell_data_5k, reg_name, pca_bool=pca_bool, gamma=gamma)\n",
        "\n",
        "#process data, make the plots(mega chiant)"
      ]
    },
    {
      "cell_type": "code",
      "execution_count": 9,
      "metadata": {
        "id": "D52IIWdl6-1z"
      },
      "outputs": [
        {
          "data": {
            "text/html": [
              "<div>\n",
              "<style scoped>\n",
              "    .dataframe tbody tr th:only-of-type {\n",
              "        vertical-align: middle;\n",
              "    }\n",
              "\n",
              "    .dataframe tbody tr th {\n",
              "        vertical-align: top;\n",
              "    }\n",
              "\n",
              "    .dataframe thead th {\n",
              "        text-align: right;\n",
              "    }\n",
              "</style>\n",
              "<table border=\"1\" class=\"dataframe\">\n",
              "  <thead>\n",
              "    <tr style=\"text-align: right;\">\n",
              "      <th></th>\n",
              "      <th>medocs</th>\n",
              "      <th>regs</th>\n",
              "      <th>datas</th>\n",
              "      <th>pcas</th>\n",
              "      <th>gammas</th>\n",
              "      <th>values</th>\n",
              "    </tr>\n",
              "  </thead>\n",
              "  <tbody>\n",
              "    <tr>\n",
              "      <th>0</th>\n",
              "      <td>Belinostat (PXD101)</td>\n",
              "      <td>l1</td>\n",
              "      <td>cell_data_5k</td>\n",
              "      <td>True</td>\n",
              "      <td>1</td>\n",
              "      <td>[13.824425, 12.557515, 11.976587, 12.064277, 1...</td>\n",
              "    </tr>\n",
              "  </tbody>\n",
              "</table>\n",
              "</div>"
            ],
            "text/plain": [
              "                medocs regs         datas  pcas gammas  \\\n",
              "0  Belinostat (PXD101)   l1  cell_data_5k  True      1   \n",
              "\n",
              "                                              values  \n",
              "0  [13.824425, 12.557515, 11.976587, 12.064277, 1...  "
            ]
          },
          "execution_count": 9,
          "metadata": {},
          "output_type": "execute_result"
        }
      ],
      "source": [
        "#process the data and plot\n",
        "medocs = []\n",
        "regs = []\n",
        "datas =  []\n",
        "pcas = []\n",
        "gammas = []\n",
        "values = []\n",
        "# Parse result dictionary\n",
        "for k, v in result.items():\n",
        "    medoc,reg_name,data, pca, gamma = k.split('|')\n",
        "    value = v\n",
        "    medocs.append(medoc)\n",
        "    regs.append(reg_name)\n",
        "    datas.append(data)\n",
        "    pcas.append(pca)\n",
        "    gammas.append(gamma)\n",
        "    values.append(value)\n",
        "import pandas as pd\n",
        "# Create DataFrame\n",
        "df = pd.DataFrame({\n",
        "    'medocs': medocs,\n",
        "    'regs': regs,\n",
        "    'datas': datas,\n",
        "    'pcas': pcas,\n",
        "    'gammas': gammas,\n",
        "    'values': values,\n",
        "})\n",
        "df\n",
        "df.to_csv(\"df3.csv\")\n",
        "df"
      ]
    }
  ],
  "metadata": {
    "accelerator": "GPU",
    "colab": {
      "gpuType": "T4",
      "provenance": []
    },
    "kernelspec": {
      "display_name": "Python 3",
      "name": "python3"
    },
    "language_info": {
      "codemirror_mode": {
        "name": "ipython",
        "version": 3
      },
      "file_extension": ".py",
      "mimetype": "text/x-python",
      "name": "python",
      "nbconvert_exporter": "python",
      "pygments_lexer": "ipython3",
      "version": "3.10.13"
    }
  },
  "nbformat": 4,
  "nbformat_minor": 0
}
