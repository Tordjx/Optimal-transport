{
  "cells": [
    {
      "cell_type": "code",
      "execution_count": 1,
      "metadata": {
        "id": "mND960P66-1u"
      },
      "outputs": [],
      "source": [
        "import torchvision.datasets as datasets\n",
        "import numpy as np\n",
        "import os\n",
        "from functools import partial\n",
        "from jax import jit\n",
        "import jax\n",
        "import jax.numpy as jnp\n",
        "import torchvision\n",
        "import jax.random as random\n",
        "import matplotlib.pyplot as plt\n",
        "import ott"
      ]
    },
    {
      "cell_type": "code",
      "execution_count": 2,
      "metadata": {
        "id": "zGz720sv6-1v"
      },
      "outputs": [],
      "source": [
        "from typing import Any\n",
        "from jax.numpy import ndarray\n",
        "from ott.geometry.costs import TICost\n",
        "\n",
        "def sigma(z) :\n",
        "    return jnp.arcsinh(z)\n",
        "\n",
        "\n",
        "#maybe regti should herit from ticost\n",
        "\n",
        "@jax.tree_util.register_pytree_node_class\n",
        "class RegTICost(TICost) :\n",
        "    def __init__(self, cost = lambda x : 0.5*jnp.sum(x**2),reg_name =\"l1\",gamma=0.1 ) :\n",
        "        super().__init__()\n",
        "        self.reg_name = reg_name\n",
        "        self.cost = cost\n",
        "        if self.reg_name not in [None,'l1','stvs' ]:\n",
        "            raise Exception(\"Norm name must be one of l1, stvs, None\")\n",
        "        self.gamma = gamma\n",
        "    def reg(self,z) :\n",
        "        if self.reg_name == \"l1\" :\n",
        "            return self.gamma * jnp.sum(abs(z))\n",
        "        elif self.reg_name == \"stvs\" :\n",
        "            return self.gamma**2 * jnp.sum((sigma(z) + 0.5 -0.5 *jnp.exp(-2*sigma(z))))\n",
        "        else :\n",
        "            return 0 #prox of 0 function is identity\n",
        "    def h(self, z) :\n",
        "        return self.cost(z) + self.reg(z)\n",
        "\n",
        "    def prox_reg(self,z) :\n",
        "        if self.reg_name == \"l1\" :\n",
        "            return jnp.where((1-self.gamma/abs(z))>0,(1-self.gamma/abs(z)),0) * z\n",
        "        elif self.reg_name == \"stvs\" :\n",
        "            return jnp.where((1-self.gamma**2/(abs(z)**2))>0,(1-self.gamma**2/(abs(z)**2)),0) * z\n",
        "        else :\n",
        "            return z\n",
        "    def h_legendre(self, z: jnp.ndarray) -> float:\n",
        "        q = self.prox_reg(jax.lax.stop_gradient(z))\n",
        "        return jnp.sum(q * z) - self.h(q) #JUSTIFIER !!!!!!\n",
        "\n"
      ]
    },
    {
      "cell_type": "markdown",
      "metadata": {
        "id": "PfUo8QXD6-1w"
      },
      "source": [
        "##Experiments on synthetic data : analysis of the feature sparsity"
      ]
    },
    {
      "cell_type": "code",
      "execution_count": 3,
      "metadata": {
        "id": "T3MNo3vY6-1x",
        "outputId": "8c643c17-702a-4ebf-8ae0-dd6c32a1d047",
        "colab": {
          "base_uri": "https://localhost:8080/"
        }
      },
      "outputs": [
        {
          "output_type": "stream",
          "name": "stderr",
          "text": [
            "100%|██████████| 10/10 [01:59<00:00, 11.92s/it]\n"
          ]
        }
      ],
      "source": [
        "n=  1000\n",
        "s= 5\n",
        "def sample_mu(n ,d, key) :\n",
        "    return jnp.asarray(jax.random.uniform(key, (n,d))) #returns the whole sampled data\n",
        "def compute_transport(x,s) : #takes a matrix as input\n",
        "    return jnp.concatenate(( jnp.exp(x[:,:s]), x[:,s:]),-1)\n",
        "\n",
        "def sample_data(d):\n",
        "    #Sample xi :\n",
        "    rng = jax.random.PRNGKey(0)\n",
        "    rng1, rng2 = jax.random.split(rng)\n",
        "    x = sample_mu(n,d ,rng1)\n",
        "    #Sample yi\n",
        "    x_tilde = sample_mu(n,d ,rng2)\n",
        "    y = compute_transport(x_tilde,s)\n",
        "    return x ,y\n",
        "#Define normalized MSE and support error\n",
        "def normalized_mse(y, y_pred) :\n",
        "    return (1/ jnp.prod(np.array(y.shape))) * jnp.sum((y-y_pred)**2)\n",
        "def support_error(y, y_pred,x) :\n",
        "    delta = y_pred -x\n",
        "    return jnp.sum(delta[:,s:]**2)/ (jnp.sum(delta**2) * y.shape[0]) #à vérifier !!!!\n",
        "\n",
        "result ={}\n",
        "from tqdm import tqdm\n",
        "for gamma in  tqdm(jnp.linspace(1e-2,1e1, 10)) : #peut etre trop de points\n",
        "    for d in [8,20,100]:\n",
        "        for reg_name in [None,'l1', \"stvs\"]:\n",
        "            x ,y = sample_data(d)\n",
        "            cost = RegTICost(reg_name=reg_name, gamma=gamma)\n",
        "            epsilon=0.1\n",
        "            geom = ott.geometry.pointcloud.PointCloud(x, y, cost_fn=cost,scale_cost = \"mean\")\n",
        "            problem = ott.problems.linear.linear_problem.LinearProblem(geom)\n",
        "            solver = ott.solvers.linear.sinkhorn.Sinkhorn(threshold=epsilon)\n",
        "            out = solver(problem)\n",
        "            y_pred = out.to_dual_potentials().transport(x)\n",
        "            nmse = normalized_mse(y , y_pred)\n",
        "            s_error = support_error(y, y_pred, x)\n",
        "            if reg_name is None :\n",
        "              reg_name = \"none\"\n",
        "            result[str(gamma)+\"|\"+str(d)+\"|\"+reg_name] = (nmse, s_error)\n",
        "\n",
        "#process data, make the plots"
      ]
    },
    {
      "cell_type": "markdown",
      "metadata": {
        "id": "8Mk1mCZT6-1x"
      },
      "source": [
        "#x dependent sparsity patterns"
      ]
    },
    {
      "cell_type": "code",
      "execution_count": null,
      "metadata": {
        "id": "PPjtbegY6-1x",
        "outputId": "bbcda86e-fcf4-4534-87a3-6e7edb73a416",
        "colab": {
          "base_uri": "https://localhost:8080/"
        }
      },
      "outputs": [
        {
          "output_type": "stream",
          "name": "stderr",
          "text": [
            " 30%|███       | 3/10 [01:12<02:52, 24.70s/it]"
          ]
        }
      ],
      "source": [
        "n = 100\n",
        "s= 2\n",
        "def F(x,s) :\n",
        "    n1 = jnp.sum(x[:s]**2)\n",
        "    n2 = jnp.sum(x[s:2*s]**2)\n",
        "    if n1> n2 :\n",
        "        return jnp.concatenate(( jnp.exp(x[:,:s]), x[:,s:]),-1)\n",
        "\n",
        "    else :\n",
        "        return  jnp.concatenate(( x[:,:s], jnp.exp(x[:,s:2*s]), x[:,2*s:]),-1)\n",
        "def sample_data(d):\n",
        "    #Sample xi :\n",
        "    rng = jax.random.PRNGKey(0)\n",
        "    rng1, rng2 = jax.random.split(rng)\n",
        "    x = sample_mu(n,d ,rng1)\n",
        "    #Sample yi\n",
        "    x_tilde = sample_mu(n,d ,rng2)\n",
        "    y = F(x_tilde,s)\n",
        "    return x ,y\n",
        "result = {}\n",
        "for d in tqdm(jnp.linspace(1e1, 1e3, 10)):\n",
        "    d = int(d)\n",
        "    for reg_name in ['l1', \"stvs\", None]:\n",
        "        for gamma in  jnp.linspace(1e-2,1e1, 10) : #We'll keep the value of lowest NMSE\n",
        "            x ,y = sample_data(d)\n",
        "            cost = RegTICost(reg_name=reg_name, gamma=gamma)\n",
        "            epsilon=0.1\n",
        "            geom = ott.geometry.pointcloud.PointCloud(x, y, cost_fn=cost,scale_cost = \"mean\")\n",
        "            problem = ott.problems.linear.linear_problem.LinearProblem(geom)\n",
        "            solver = ott.solvers.linear.sinkhorn.Sinkhorn(threshold=epsilon)\n",
        "            out = solver(problem)\n",
        "            y_pred = out.to_dual_potentials().transport(x)\n",
        "            nmse = normalized_mse(y , y_pred)\n",
        "            if reg_name is None :\n",
        "              reg_name = \"none\"\n",
        "            if str(d)+\"|\"+reg_name not in result.keys() or result[str(d)+\"|\"+reg_name]>nmse:\n",
        "                result[str(d)+\"|\"+reg_name] = nmse\n",
        "            if reg_name == \"none\" :\n",
        "              reg_name = None\n",
        "#process the data and plot\n"
      ]
    },
    {
      "cell_type": "markdown",
      "metadata": {
        "id": "fa6RSeqQ6-1y"
      },
      "source": [
        "##Aplication to single cell genomics"
      ]
    },
    {
      "cell_type": "code",
      "execution_count": null,
      "metadata": {
        "id": "5KotWXcl6-1y"
      },
      "outputs": [],
      "source": [
        "import scanpy\n",
        "path_file = \"/home/tordjx/Downloads/Massively multiplex chemical transcriptomics at single-cell resolution - K562.h5ad\"\n",
        "data= scanpy.read_h5ad(path_file)\n",
        "#Remove cells with less than 200 expressed genes\n",
        "df = data.obs[data.obs['num_genes_expressed']>200]\n",
        "#Remove genes expressed in less than 20 cells\n",
        "import numpy as np\n",
        "ann_data = data[data.obs.index.isin(df.index)]\n",
        "column_sums = ann_data.X.sum(axis=0)\n",
        "column_sums_dense = np.asarray(column_sums).flatten()\n",
        "mask = column_sums_dense > 20\n",
        "filtered_ann_data = ann_data[:, mask]\n",
        "#Select the 5 drugs Belinostat, Dacinostat, Givinostat, Hesperadin, and Quisinostat, and the control\n",
        "medocs = [\"Belinostat (PXD101)\",\n",
        "\"Hesperadin\",\n",
        "\"Givinostat (ITF2357)\",\n",
        "\"Dacinostat (LAQ824)\",\n",
        "\"Quisinostat (JNJ-26481585) 2HCl\", \"Vehicle\"]\n",
        "scanpy.pp.normalize_total(filtered_ann_data)\n",
        "scanpy.pp.log1p(filtered_ann_data)\n",
        "scanpy.pp.highly_variable_genes(filtered_ann_data, n_top_genes=5000)\n",
        "#scanpy.tl.rank_genes_groups(filtered_ann_data, groupby='product_name', method='t-test')#\n",
        "#perturbation_marker_names = { k : filtered_ann_data.uns['rank_genes_groups']['names'][k][:50] for k in medocs}\n",
        "#Whole set\n",
        "cell_names = {k : filtered_ann_data.obs[k == df[\"product_name\"]].index for k in medocs}\n",
        "cell_data_full = { k : filtered_ann_data[filtered_ann_data.obs.index.isin(cell_names[k])] for k in medocs}\n",
        "#cell_marker_index = {k : [list(cell_data_full[k].to_df().columns).index(item) for item in perturbation_marker_names[k]] for k in medocs}\n",
        "cell_data_full = { k : np.asarray(cell_data_full[k].X.todense()) for k in medocs}\n",
        "#cell_data_marker = {k : cell_data_full[k][:, cell_marker_index[k]] for k in medocs}\n",
        "#Top 5k\n",
        "top5k_filtered_ann_data = filtered_ann_data[:, filtered_ann_data.var['highly_variable']]\n",
        "cell_names = {k : top5k_filtered_ann_data.obs[k == df[\"product_name\"]].index for k in medocs}\n",
        "cell_data_5k = { k : top5k_filtered_ann_data[top5k_filtered_ann_data.obs.index.isin(cell_names[k])] for k in medocs}\n",
        "cell_data_5k = { k : np.asarray(cell_data_5k[k].X.todense()) for k in medocs}"
      ]
    },
    {
      "cell_type": "code",
      "execution_count": null,
      "metadata": {
        "id": "MhbocJZ36-1y"
      },
      "outputs": [],
      "source": [
        "from sklearn.model_selection import KFold\n",
        "from sklearn.decomposition import PCA\n",
        "from ott.tools.sinkhorn_divergence import sinkhorn_divergence\n",
        "\n",
        "def experiment(medoc, cell_data,reg_name, pca_bool = False, gamma):\n",
        "    X = cell_data['Vehicle']\n",
        "    y = cell_data[medoc]\n",
        "    Xfolds = KFold(n_splits=10, shuffle=True, random_state=42).split(X)\n",
        "    yfolds=  KFold(n_splits=10, shuffle=True, random_state=42).split(y)\n",
        "    result = []\n",
        "    cost = RegTICost(reg_name=reg_name,gamma = gamma)\n",
        "    for fold, ((train_index_X, test_index_X), (train_index_y, test_index_y)) in enumerate(zip(Xfolds, yfolds)):\n",
        "        X_train, X_test = X[train_index_X], X[test_index_X]\n",
        "        y_train, y_test = y[train_index_y], y[test_index_y]\n",
        "        if pca_bool :\n",
        "            pca = PCA(n_components=50).fit(X_train)\n",
        "            X_train,y_train = pca.transform(X_train), pca.transform(y_train)\n",
        "            X_test,y_test = pca.transform(X_test), pca.transform(y_test)\n",
        "            epsilon=0.1\n",
        "            geom = ott.geometry.pointcloud.PointCloud(X_train, y_train, cost_fn=cost,scale_cost = \"mean\")\n",
        "            problem = ott.problems.linear.linear_problem.LinearProblem(geom)\n",
        "            solver = ott.solvers.linear.sinkhorn.Sinkhorn(threshold=epsilon)\n",
        "            out = solver(problem)\n",
        "            y_test_pred = out.to_dual_potentials().transport(X_test)\n",
        "            ##Metrics\n",
        "            #Sinkhorn divergence\n",
        "            result.append(sinkhorn_divergence(ott.geometry.pointcloud.PointCloud, y_test_pred, y_test).divergence)\n",
        "            #Dans l'article ils parlent de deux autres metriques, le R2 et le ranked biased overlap, le probleme est qu'ils le font entre des \"marqueurs de perturbation\" et ce qu'on prédit, et je ne comprends pas ce qui est attendu. Surtout que il se trouve que les marqueurs de perturbations n'appartiennent pas au sous ensemble des 5k genes, donc ça voudrait dire qu'on ne peut pas le calculer pour un des sous ensemble : j'y comprends que dalle\n",
        "    return result"
      ]
    },
    {
      "cell_type": "code",
      "execution_count": null,
      "metadata": {
        "id": "5N8fmSvH6-1y"
      },
      "outputs": [],
      "source": [
        "result = {}\n",
        "medocs = [\"Belinostat (PXD101)\",\n",
        "\"Hesperadin\",\n",
        "\"Givinostat (ITF2357)\",\n",
        "\"Dacinostat (LAQ824)\",\n",
        "\"Quisinostat (JNJ-26481585) 2HCl\"]\n",
        "for gamma in [2**(-i) for i in range(6)]:\n",
        "    for medoc in medocs :\n",
        "        for reg_name in [\"l1\", \"stvs\" ,None] :\n",
        "            for data_name  in [\"cell_data_5k\", \"cell_data_full\"] :\n",
        "                for pca_bool in [True, False] :\n",
        "                    if data_name == \"cell_data_5k\" :\n",
        "                        data = cell_data_5k\n",
        "                    else :\n",
        "                        data = cell_data_full\n",
        "                    result[medocs+\"|\"+reg_name+\"|\"+data_name+\"|\"+ str(pca_bool)+\"|\"+str(gamma)] = experiment(medoc, cell_data_5k, reg_name, pca_bool=pca_bool)\n",
        "\n",
        "#process data, make the plots(mega chiant)"
      ]
    },
    {
      "cell_type": "code",
      "execution_count": null,
      "metadata": {
        "id": "D52IIWdl6-1z"
      },
      "outputs": [],
      "source": []
    },
    {
      "cell_type": "code",
      "execution_count": null,
      "metadata": {
        "id": "TufZDL3d6-1z"
      },
      "outputs": [],
      "source": [
        "X_p.shape"
      ]
    }
  ],
  "metadata": {
    "kernelspec": {
      "display_name": "Python 3",
      "name": "python3"
    },
    "language_info": {
      "codemirror_mode": {
        "name": "ipython",
        "version": 3
      },
      "file_extension": ".py",
      "mimetype": "text/x-python",
      "name": "python",
      "nbconvert_exporter": "python",
      "pygments_lexer": "ipython3",
      "version": "3.10.13"
    },
    "colab": {
      "provenance": [],
      "gpuType": "V28"
    },
    "accelerator": "TPU"
  },
  "nbformat": 4,
  "nbformat_minor": 0
}